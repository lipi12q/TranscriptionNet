{
 "cells": [
  {
   "cell_type": "code",
   "execution_count": 1,
   "metadata": {},
   "outputs": [],
   "source": [
    "import pandas as pd"
   ]
  },
  {
   "cell_type": "code",
   "execution_count": 2,
   "metadata": {},
   "outputs": [],
   "source": [
    "# Read RNAi extended GECs data and gene Meta information\n",
    "RNAi_GECs_12328_demo = pd.read_csv('example_data/gene meta/RNAi_GECs_12328_demo.csv', index_col=0, header=0)\n",
    "gene_meta = pd.read_csv('example_data/gene meta/gene meta.csv', index_col=0, header=0)"
   ]
  },
  {
   "cell_type": "code",
   "execution_count": 3,
   "metadata": {},
   "outputs": [
    {
     "data": {
      "text/plain": [
       "10      -0.114262\n",
       "100     -0.286455\n",
       "1000     0.006493\n",
       "10000    0.027808\n",
       "10001    0.006498\n",
       "           ...   \n",
       "9990    -0.112226\n",
       "9991    -0.083994\n",
       "9992     0.014206\n",
       "9993    -0.027895\n",
       "9997    -0.084023\n",
       "Name: 1400, Length: 12328, dtype: float64"
      ]
     },
     "execution_count": 3,
     "metadata": {},
     "output_type": "execute_result"
    }
   ],
   "source": [
    "# Access specific target genes, taking gene Entrez ID\"1400\" as an example, to view their Meta information and gene expression data\n",
    "gene_1400_GECs = RNAi_GECs_12328_demo.loc[1400] \n",
    "gene_1400_GECs"
   ]
  },
  {
   "cell_type": "code",
   "execution_count": 4,
   "metadata": {},
   "outputs": [
    {
     "data": {
      "text/plain": [
       "GeneID                                 ENSG00000072832\n",
       "Symbol                                           CRMP1\n",
       "Description      collapsin response mediator protein 1\n",
       "Protein Name     Dihydropyrimidinase-related protein 1\n",
       "UniProt ID      Q13024; Q4W5F1; Q96TC8; Q14194; A0EJG6\n",
       "Name: 1400, dtype: object"
      ]
     },
     "execution_count": 4,
     "metadata": {},
     "output_type": "execute_result"
    }
   ],
   "source": [
    "gene_1400_meta = gene_meta.loc[1400]\n",
    "gene_1400_meta"
   ]
  }
 ],
 "metadata": {
  "kernelspec": {
   "display_name": "pyg",
   "language": "python",
   "name": "python3"
  },
  "language_info": {
   "codemirror_mode": {
    "name": "ipython",
    "version": 3
   },
   "file_extension": ".py",
   "mimetype": "text/x-python",
   "name": "python",
   "nbconvert_exporter": "python",
   "pygments_lexer": "ipython3",
   "version": "3.8.16"
  }
 },
 "nbformat": 4,
 "nbformat_minor": 2
}

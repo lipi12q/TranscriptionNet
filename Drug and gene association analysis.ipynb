{
 "cells": [
  {
   "cell_type": "code",
   "execution_count": 1,
   "metadata": {},
   "outputs": [],
   "source": [
    "import pandas as pd"
   ]
  },
  {
   "cell_type": "code",
   "execution_count": 2,
   "metadata": {},
   "outputs": [],
   "source": [
    "def get_gene_lands(gec_matrix, num):\n",
    "    target_up_symbol = []\n",
    "    target_down_symbol = []\n",
    "\n",
    "    for target in gec_matrix.keys():\n",
    "        gene_matrix_item = gec_matrix[target]\n",
    "        gene_matrix_item = gene_matrix_item.sort_values(ascending=True)\n",
    "\n",
    "        gec_matrix_head = list(gene_matrix_item.head(num).index)#从小到大排序\n",
    "        target_down_symbol.append(gec_matrix_head)\n",
    "\n",
    "        gene_matrix_tail = list(gene_matrix_item.tail(num).index)\n",
    "        target_up_symbol.append(gene_matrix_tail)\n",
    "    \n",
    "    target_up_symbol = pd.DataFrame(target_up_symbol, index=gec_matrix.keys())\n",
    "    target_down_symbol = pd.DataFrame(target_down_symbol, index=gec_matrix.keys())\n",
    "\n",
    "    return target_up_symbol, target_down_symbol"
   ]
  },
  {
   "cell_type": "code",
   "execution_count": 3,
   "metadata": {},
   "outputs": [],
   "source": [
    "# Read RNAi extended GECs data\n",
    "RNAi_GECs_12328_demo = pd.read_csv('example_data/gene meta/RNAi_GECs_12328_demo.csv', index_col=0, header=0).head(100).T"
   ]
  },
  {
   "cell_type": "code",
   "execution_count": 4,
   "metadata": {},
   "outputs": [],
   "source": [
    "# Create a genetic tag\n",
    "target_up_symbol, target_down_symbol = get_gene_lands(RNAi_GECs_12328_demo, 300)\n",
    "\n",
    "target_up_symbol.to_csv('example_data/drug gene association/target_up_symbol.csv', index=True, header=False)\n",
    "target_down_symbol.to_csv('example_data/drug gene association/target_down_symbol.csv', index=True, header=False)"
   ]
  },
  {
   "cell_type": "markdown",
   "metadata": {},
   "source": [
    "Run the R script \"example_data/drug gene association/Drug and gene association Analysis.R\" for drug and gene association analysis."
   ]
  }
 ],
 "metadata": {
  "kernelspec": {
   "display_name": "pyg",
   "language": "python",
   "name": "pyg"
  },
  "language_info": {
   "codemirror_mode": {
    "name": "ipython",
    "version": 3
   },
   "file_extension": ".py",
   "mimetype": "text/x-python",
   "name": "python",
   "nbconvert_exporter": "python",
   "pygments_lexer": "ipython3",
   "version": "3.8.16"
  }
 },
 "nbformat": 4,
 "nbformat_minor": 2
}
